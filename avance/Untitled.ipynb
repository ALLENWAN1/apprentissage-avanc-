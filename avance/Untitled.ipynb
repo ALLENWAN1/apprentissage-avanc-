{
 "cells": [
  {
   "cell_type": "code",
   "execution_count": 36,
   "metadata": {
    "collapsed": true
   },
   "outputs": [],
   "source": [
    "import numpy as np\n",
    "import pandas as pd\n",
    "from sklearn.model_selection import train_test_split"
   ]
  },
  {
   "cell_type": "code",
   "execution_count": 37,
   "metadata": {
    "collapsed": false
   },
   "outputs": [],
   "source": [
    "songs_id = pd.read_csv(\"kaggle_songs.txt\", sep=\" \", header= None)"
   ]
  },
  {
   "cell_type": "code",
   "execution_count": 38,
   "metadata": {
    "collapsed": false
   },
   "outputs": [],
   "source": [
    "users_id = pd.read_csv(\"kaggle_users.txt\", sep=\" \", header= None)"
   ]
  },
  {
   "cell_type": "code",
   "execution_count": 39,
   "metadata": {
    "collapsed": false
   },
   "outputs": [],
   "source": [
    "evaluation = pd.read_csv(\"kaggle_visible_evaluation_triplets.txt\" , sep=\"\\t\", header= None)"
   ]
  },
  {
   "cell_type": "code",
   "execution_count": 40,
   "metadata": {
    "collapsed": true
   },
   "outputs": [],
   "source": [
    "original, test = train_test_split(evaluation, test_size = 0.1)"
   ]
  },
  {
   "cell_type": "code",
   "execution_count": 41,
   "metadata": {
    "collapsed": false
   },
   "outputs": [],
   "source": [
    "songs_id[songs_id.columns[1]] = \"song_id_\"+(songs_id[songs_id.columns[1]]-1).astype(str)"
   ]
  },
  {
   "cell_type": "code",
   "execution_count": 42,
   "metadata": {
    "collapsed": false
   },
   "outputs": [],
   "source": [
    "users_id[\"user_id\"] = range(110000)"
   ]
  },
  {
   "cell_type": "code",
   "execution_count": 43,
   "metadata": {
    "collapsed": false
   },
   "outputs": [],
   "source": [
    "users_id.user_id = \"user_id_\" + users_id.user_id.astype(str)"
   ]
  },
  {
   "cell_type": "code",
   "execution_count": 44,
   "metadata": {
    "collapsed": false
   },
   "outputs": [],
   "source": [
    "rel = pd.merge(test,songs_id,how='left',left_on=evaluation.columns[1], right_on=songs_id.columns[0])"
   ]
  },
  {
   "cell_type": "code",
   "execution_count": 45,
   "metadata": {
    "collapsed": false
   },
   "outputs": [],
   "source": [
    "rel1 = pd.merge(rel, users_id, how='left', left_on=rel.columns[1],right_on=users_id[0])"
   ]
  },
  {
   "cell_type": "code",
   "execution_count": 46,
   "metadata": {
    "collapsed": false,
    "scrolled": true
   },
   "outputs": [],
   "source": [
    "rel2 = rel1[rel1.columns[[7,5,3]]]"
   ]
  },
  {
   "cell_type": "code",
   "execution_count": 47,
   "metadata": {
    "collapsed": false
   },
   "outputs": [
    {
     "data": {
      "text/html": [
       "<div>\n",
       "<table border=\"1\" class=\"dataframe\">\n",
       "  <thead>\n",
       "    <tr style=\"text-align: right;\">\n",
       "      <th></th>\n",
       "      <th>user_id</th>\n",
       "      <th>1_y</th>\n",
       "      <th>2</th>\n",
       "    </tr>\n",
       "  </thead>\n",
       "  <tbody>\n",
       "    <tr>\n",
       "      <th>0</th>\n",
       "      <td>user_id_24655</td>\n",
       "      <td>song_id_205957</td>\n",
       "      <td>1</td>\n",
       "    </tr>\n",
       "    <tr>\n",
       "      <th>1</th>\n",
       "      <td>user_id_68477</td>\n",
       "      <td>song_id_363002</td>\n",
       "      <td>1</td>\n",
       "    </tr>\n",
       "    <tr>\n",
       "      <th>2</th>\n",
       "      <td>user_id_95608</td>\n",
       "      <td>song_id_107023</td>\n",
       "      <td>2</td>\n",
       "    </tr>\n",
       "    <tr>\n",
       "      <th>3</th>\n",
       "      <td>user_id_49304</td>\n",
       "      <td>song_id_124871</td>\n",
       "      <td>1</td>\n",
       "    </tr>\n",
       "    <tr>\n",
       "      <th>4</th>\n",
       "      <td>user_id_69870</td>\n",
       "      <td>song_id_126830</td>\n",
       "      <td>3</td>\n",
       "    </tr>\n",
       "    <tr>\n",
       "      <th>5</th>\n",
       "      <td>user_id_107423</td>\n",
       "      <td>song_id_177171</td>\n",
       "      <td>1</td>\n",
       "    </tr>\n",
       "    <tr>\n",
       "      <th>6</th>\n",
       "      <td>user_id_27628</td>\n",
       "      <td>song_id_141926</td>\n",
       "      <td>7</td>\n",
       "    </tr>\n",
       "    <tr>\n",
       "      <th>7</th>\n",
       "      <td>user_id_2381</td>\n",
       "      <td>song_id_347668</td>\n",
       "      <td>1</td>\n",
       "    </tr>\n",
       "    <tr>\n",
       "      <th>8</th>\n",
       "      <td>user_id_70249</td>\n",
       "      <td>song_id_11010</td>\n",
       "      <td>2</td>\n",
       "    </tr>\n",
       "    <tr>\n",
       "      <th>9</th>\n",
       "      <td>user_id_41749</td>\n",
       "      <td>song_id_159299</td>\n",
       "      <td>4</td>\n",
       "    </tr>\n",
       "    <tr>\n",
       "      <th>10</th>\n",
       "      <td>user_id_23274</td>\n",
       "      <td>song_id_2241</td>\n",
       "      <td>2</td>\n",
       "    </tr>\n",
       "    <tr>\n",
       "      <th>11</th>\n",
       "      <td>user_id_102559</td>\n",
       "      <td>song_id_116408</td>\n",
       "      <td>2</td>\n",
       "    </tr>\n",
       "    <tr>\n",
       "      <th>12</th>\n",
       "      <td>user_id_35212</td>\n",
       "      <td>song_id_45211</td>\n",
       "      <td>2</td>\n",
       "    </tr>\n",
       "    <tr>\n",
       "      <th>13</th>\n",
       "      <td>user_id_70492</td>\n",
       "      <td>song_id_139749</td>\n",
       "      <td>1</td>\n",
       "    </tr>\n",
       "    <tr>\n",
       "      <th>14</th>\n",
       "      <td>user_id_21271</td>\n",
       "      <td>song_id_208779</td>\n",
       "      <td>3</td>\n",
       "    </tr>\n",
       "    <tr>\n",
       "      <th>15</th>\n",
       "      <td>user_id_109865</td>\n",
       "      <td>song_id_178206</td>\n",
       "      <td>1</td>\n",
       "    </tr>\n",
       "    <tr>\n",
       "      <th>16</th>\n",
       "      <td>user_id_26592</td>\n",
       "      <td>song_id_217739</td>\n",
       "      <td>1</td>\n",
       "    </tr>\n",
       "    <tr>\n",
       "      <th>17</th>\n",
       "      <td>user_id_30088</td>\n",
       "      <td>song_id_218665</td>\n",
       "      <td>1</td>\n",
       "    </tr>\n",
       "    <tr>\n",
       "      <th>18</th>\n",
       "      <td>user_id_103988</td>\n",
       "      <td>song_id_26438</td>\n",
       "      <td>1</td>\n",
       "    </tr>\n",
       "    <tr>\n",
       "      <th>19</th>\n",
       "      <td>user_id_22243</td>\n",
       "      <td>song_id_315811</td>\n",
       "      <td>3</td>\n",
       "    </tr>\n",
       "    <tr>\n",
       "      <th>20</th>\n",
       "      <td>user_id_90406</td>\n",
       "      <td>song_id_325473</td>\n",
       "      <td>1</td>\n",
       "    </tr>\n",
       "    <tr>\n",
       "      <th>21</th>\n",
       "      <td>user_id_84676</td>\n",
       "      <td>song_id_319202</td>\n",
       "      <td>1</td>\n",
       "    </tr>\n",
       "    <tr>\n",
       "      <th>22</th>\n",
       "      <td>user_id_44817</td>\n",
       "      <td>song_id_194060</td>\n",
       "      <td>5</td>\n",
       "    </tr>\n",
       "    <tr>\n",
       "      <th>23</th>\n",
       "      <td>user_id_1752</td>\n",
       "      <td>song_id_263737</td>\n",
       "      <td>1</td>\n",
       "    </tr>\n",
       "    <tr>\n",
       "      <th>24</th>\n",
       "      <td>user_id_52079</td>\n",
       "      <td>song_id_146004</td>\n",
       "      <td>1</td>\n",
       "    </tr>\n",
       "    <tr>\n",
       "      <th>25</th>\n",
       "      <td>user_id_4742</td>\n",
       "      <td>song_id_165400</td>\n",
       "      <td>1</td>\n",
       "    </tr>\n",
       "    <tr>\n",
       "      <th>26</th>\n",
       "      <td>user_id_91607</td>\n",
       "      <td>song_id_138671</td>\n",
       "      <td>1</td>\n",
       "    </tr>\n",
       "    <tr>\n",
       "      <th>27</th>\n",
       "      <td>user_id_97160</td>\n",
       "      <td>song_id_315799</td>\n",
       "      <td>6</td>\n",
       "    </tr>\n",
       "    <tr>\n",
       "      <th>28</th>\n",
       "      <td>user_id_58399</td>\n",
       "      <td>song_id_336510</td>\n",
       "      <td>10</td>\n",
       "    </tr>\n",
       "    <tr>\n",
       "      <th>29</th>\n",
       "      <td>user_id_53691</td>\n",
       "      <td>song_id_48459</td>\n",
       "      <td>5</td>\n",
       "    </tr>\n",
       "    <tr>\n",
       "      <th>...</th>\n",
       "      <td>...</td>\n",
       "      <td>...</td>\n",
       "      <td>...</td>\n",
       "    </tr>\n",
       "    <tr>\n",
       "      <th>145064</th>\n",
       "      <td>user_id_105675</td>\n",
       "      <td>song_id_173016</td>\n",
       "      <td>1</td>\n",
       "    </tr>\n",
       "    <tr>\n",
       "      <th>145065</th>\n",
       "      <td>user_id_101816</td>\n",
       "      <td>song_id_218357</td>\n",
       "      <td>1</td>\n",
       "    </tr>\n",
       "    <tr>\n",
       "      <th>145066</th>\n",
       "      <td>user_id_24288</td>\n",
       "      <td>song_id_318046</td>\n",
       "      <td>1</td>\n",
       "    </tr>\n",
       "    <tr>\n",
       "      <th>145067</th>\n",
       "      <td>user_id_13795</td>\n",
       "      <td>song_id_42729</td>\n",
       "      <td>2</td>\n",
       "    </tr>\n",
       "    <tr>\n",
       "      <th>145068</th>\n",
       "      <td>user_id_69358</td>\n",
       "      <td>song_id_339502</td>\n",
       "      <td>3</td>\n",
       "    </tr>\n",
       "    <tr>\n",
       "      <th>145069</th>\n",
       "      <td>user_id_69299</td>\n",
       "      <td>song_id_25149</td>\n",
       "      <td>1</td>\n",
       "    </tr>\n",
       "    <tr>\n",
       "      <th>145070</th>\n",
       "      <td>user_id_8963</td>\n",
       "      <td>song_id_87432</td>\n",
       "      <td>2</td>\n",
       "    </tr>\n",
       "    <tr>\n",
       "      <th>145071</th>\n",
       "      <td>user_id_44087</td>\n",
       "      <td>song_id_253441</td>\n",
       "      <td>1</td>\n",
       "    </tr>\n",
       "    <tr>\n",
       "      <th>145072</th>\n",
       "      <td>user_id_38513</td>\n",
       "      <td>song_id_269872</td>\n",
       "      <td>4</td>\n",
       "    </tr>\n",
       "    <tr>\n",
       "      <th>145073</th>\n",
       "      <td>user_id_94692</td>\n",
       "      <td>song_id_327456</td>\n",
       "      <td>1</td>\n",
       "    </tr>\n",
       "    <tr>\n",
       "      <th>145074</th>\n",
       "      <td>user_id_18039</td>\n",
       "      <td>song_id_115547</td>\n",
       "      <td>4</td>\n",
       "    </tr>\n",
       "    <tr>\n",
       "      <th>145075</th>\n",
       "      <td>user_id_27002</td>\n",
       "      <td>song_id_16143</td>\n",
       "      <td>1</td>\n",
       "    </tr>\n",
       "    <tr>\n",
       "      <th>145076</th>\n",
       "      <td>user_id_40601</td>\n",
       "      <td>song_id_46579</td>\n",
       "      <td>1</td>\n",
       "    </tr>\n",
       "    <tr>\n",
       "      <th>145077</th>\n",
       "      <td>user_id_93724</td>\n",
       "      <td>song_id_330825</td>\n",
       "      <td>2</td>\n",
       "    </tr>\n",
       "    <tr>\n",
       "      <th>145078</th>\n",
       "      <td>user_id_51051</td>\n",
       "      <td>song_id_160726</td>\n",
       "      <td>1</td>\n",
       "    </tr>\n",
       "    <tr>\n",
       "      <th>145079</th>\n",
       "      <td>user_id_102081</td>\n",
       "      <td>song_id_334642</td>\n",
       "      <td>1</td>\n",
       "    </tr>\n",
       "    <tr>\n",
       "      <th>145080</th>\n",
       "      <td>user_id_44986</td>\n",
       "      <td>song_id_215486</td>\n",
       "      <td>1</td>\n",
       "    </tr>\n",
       "    <tr>\n",
       "      <th>145081</th>\n",
       "      <td>user_id_64817</td>\n",
       "      <td>song_id_10381</td>\n",
       "      <td>24</td>\n",
       "    </tr>\n",
       "    <tr>\n",
       "      <th>145082</th>\n",
       "      <td>user_id_36055</td>\n",
       "      <td>song_id_113855</td>\n",
       "      <td>1</td>\n",
       "    </tr>\n",
       "    <tr>\n",
       "      <th>145083</th>\n",
       "      <td>user_id_2186</td>\n",
       "      <td>song_id_118999</td>\n",
       "      <td>1</td>\n",
       "    </tr>\n",
       "    <tr>\n",
       "      <th>145084</th>\n",
       "      <td>user_id_96898</td>\n",
       "      <td>song_id_161366</td>\n",
       "      <td>1</td>\n",
       "    </tr>\n",
       "    <tr>\n",
       "      <th>145085</th>\n",
       "      <td>user_id_82656</td>\n",
       "      <td>song_id_264950</td>\n",
       "      <td>1</td>\n",
       "    </tr>\n",
       "    <tr>\n",
       "      <th>145086</th>\n",
       "      <td>user_id_16344</td>\n",
       "      <td>song_id_189275</td>\n",
       "      <td>1</td>\n",
       "    </tr>\n",
       "    <tr>\n",
       "      <th>145087</th>\n",
       "      <td>user_id_100128</td>\n",
       "      <td>song_id_329035</td>\n",
       "      <td>1</td>\n",
       "    </tr>\n",
       "    <tr>\n",
       "      <th>145088</th>\n",
       "      <td>user_id_58412</td>\n",
       "      <td>song_id_134028</td>\n",
       "      <td>5</td>\n",
       "    </tr>\n",
       "    <tr>\n",
       "      <th>145089</th>\n",
       "      <td>user_id_40909</td>\n",
       "      <td>song_id_305848</td>\n",
       "      <td>7</td>\n",
       "    </tr>\n",
       "    <tr>\n",
       "      <th>145090</th>\n",
       "      <td>user_id_73207</td>\n",
       "      <td>song_id_147708</td>\n",
       "      <td>1</td>\n",
       "    </tr>\n",
       "    <tr>\n",
       "      <th>145091</th>\n",
       "      <td>user_id_25589</td>\n",
       "      <td>song_id_343265</td>\n",
       "      <td>2</td>\n",
       "    </tr>\n",
       "    <tr>\n",
       "      <th>145092</th>\n",
       "      <td>user_id_27333</td>\n",
       "      <td>song_id_26981</td>\n",
       "      <td>1</td>\n",
       "    </tr>\n",
       "    <tr>\n",
       "      <th>145093</th>\n",
       "      <td>user_id_96236</td>\n",
       "      <td>song_id_247927</td>\n",
       "      <td>3</td>\n",
       "    </tr>\n",
       "  </tbody>\n",
       "</table>\n",
       "<p>145094 rows × 3 columns</p>\n",
       "</div>"
      ],
      "text/plain": [
       "               user_id             1_y   2\n",
       "0        user_id_24655  song_id_205957   1\n",
       "1        user_id_68477  song_id_363002   1\n",
       "2        user_id_95608  song_id_107023   2\n",
       "3        user_id_49304  song_id_124871   1\n",
       "4        user_id_69870  song_id_126830   3\n",
       "5       user_id_107423  song_id_177171   1\n",
       "6        user_id_27628  song_id_141926   7\n",
       "7         user_id_2381  song_id_347668   1\n",
       "8        user_id_70249   song_id_11010   2\n",
       "9        user_id_41749  song_id_159299   4\n",
       "10       user_id_23274    song_id_2241   2\n",
       "11      user_id_102559  song_id_116408   2\n",
       "12       user_id_35212   song_id_45211   2\n",
       "13       user_id_70492  song_id_139749   1\n",
       "14       user_id_21271  song_id_208779   3\n",
       "15      user_id_109865  song_id_178206   1\n",
       "16       user_id_26592  song_id_217739   1\n",
       "17       user_id_30088  song_id_218665   1\n",
       "18      user_id_103988   song_id_26438   1\n",
       "19       user_id_22243  song_id_315811   3\n",
       "20       user_id_90406  song_id_325473   1\n",
       "21       user_id_84676  song_id_319202   1\n",
       "22       user_id_44817  song_id_194060   5\n",
       "23        user_id_1752  song_id_263737   1\n",
       "24       user_id_52079  song_id_146004   1\n",
       "25        user_id_4742  song_id_165400   1\n",
       "26       user_id_91607  song_id_138671   1\n",
       "27       user_id_97160  song_id_315799   6\n",
       "28       user_id_58399  song_id_336510  10\n",
       "29       user_id_53691   song_id_48459   5\n",
       "...                ...             ...  ..\n",
       "145064  user_id_105675  song_id_173016   1\n",
       "145065  user_id_101816  song_id_218357   1\n",
       "145066   user_id_24288  song_id_318046   1\n",
       "145067   user_id_13795   song_id_42729   2\n",
       "145068   user_id_69358  song_id_339502   3\n",
       "145069   user_id_69299   song_id_25149   1\n",
       "145070    user_id_8963   song_id_87432   2\n",
       "145071   user_id_44087  song_id_253441   1\n",
       "145072   user_id_38513  song_id_269872   4\n",
       "145073   user_id_94692  song_id_327456   1\n",
       "145074   user_id_18039  song_id_115547   4\n",
       "145075   user_id_27002   song_id_16143   1\n",
       "145076   user_id_40601   song_id_46579   1\n",
       "145077   user_id_93724  song_id_330825   2\n",
       "145078   user_id_51051  song_id_160726   1\n",
       "145079  user_id_102081  song_id_334642   1\n",
       "145080   user_id_44986  song_id_215486   1\n",
       "145081   user_id_64817   song_id_10381  24\n",
       "145082   user_id_36055  song_id_113855   1\n",
       "145083    user_id_2186  song_id_118999   1\n",
       "145084   user_id_96898  song_id_161366   1\n",
       "145085   user_id_82656  song_id_264950   1\n",
       "145086   user_id_16344  song_id_189275   1\n",
       "145087  user_id_100128  song_id_329035   1\n",
       "145088   user_id_58412  song_id_134028   5\n",
       "145089   user_id_40909  song_id_305848   7\n",
       "145090   user_id_73207  song_id_147708   1\n",
       "145091   user_id_25589  song_id_343265   2\n",
       "145092   user_id_27333   song_id_26981   1\n",
       "145093   user_id_96236  song_id_247927   3\n",
       "\n",
       "[145094 rows x 3 columns]"
      ]
     },
     "execution_count": 47,
     "metadata": {},
     "output_type": "execute_result"
    }
   ],
   "source": [
    "rel2"
   ]
  },
  {
   "cell_type": "code",
   "execution_count": 26,
   "metadata": {
    "collapsed": false
   },
   "outputs": [],
   "source": []
  },
  {
   "cell_type": "code",
   "execution_count": 34,
   "metadata": {
    "collapsed": false
   },
   "outputs": [],
   "source": [
    "test.to_csv(\"test_data.csv\",sep='\\t',index=False)"
   ]
  },
  {
   "cell_type": "code",
   "execution_count": 35,
   "metadata": {
    "collapsed": true
   },
   "outputs": [],
   "source": [
    "rel2.to_csv(\"data.csv\",sep='\\t', index=False)"
   ]
  },
  {
   "cell_type": "code",
   "execution_count": 15,
   "metadata": {
    "collapsed": false
   },
   "outputs": [],
   "source": [
    "for r in rel2.iterrows():\n",
    "    ligne = int(r[1][0].split('_')[-1])\n",
    "    col = int(r[1][1].split('_')[-1])\n",
    "    number = r[1][2]\n",
    "    M[ligne][col] = number"
   ]
  },
  {
   "cell_type": "code",
   "execution_count": null,
   "metadata": {
    "collapsed": false
   },
   "outputs": [],
   "source": [
    "u_average_ligne = np.mean(M, axis=1)"
   ]
  },
  {
   "cell_type": "code",
   "execution_count": null,
   "metadata": {
    "collapsed": true
   },
   "outputs": [],
   "source": [
    "u_average_col = np.mean(M, axis = 0)"
   ]
  },
  {
   "cell_type": "code",
   "execution_count": 16,
   "metadata": {
    "collapsed": false
   },
   "outputs": [
    {
     "data": {
      "text/plain": [
       "array([[ 0.,  0.,  0., ...,  0.,  0.,  0.],\n",
       "       [ 0.,  0.,  0., ...,  0.,  0.,  0.],\n",
       "       [ 0.,  0.,  0., ...,  0.,  0.,  0.],\n",
       "       ..., \n",
       "       [ 0.,  0.,  0., ...,  0.,  0.,  0.],\n",
       "       [ 0.,  0.,  0., ...,  0.,  0.,  0.],\n",
       "       [ 0.,  0.,  0., ...,  0.,  0.,  0.]])"
      ]
     },
     "execution_count": 16,
     "metadata": {},
     "output_type": "execute_result"
    }
   ],
   "source": [
    "M"
   ]
  },
  {
   "cell_type": "code",
   "execution_count": null,
   "metadata": {
    "collapsed": true
   },
   "outputs": [],
   "source": []
  }
 ],
 "metadata": {
  "anaconda-cloud": {},
  "kernelspec": {
   "display_name": "Python [conda root]",
   "language": "python",
   "name": "conda-root-py"
  },
  "language_info": {
   "codemirror_mode": {
    "name": "ipython",
    "version": 2
   },
   "file_extension": ".py",
   "mimetype": "text/x-python",
   "name": "python",
   "nbconvert_exporter": "python",
   "pygments_lexer": "ipython2",
   "version": "2.7.12"
  }
 },
 "nbformat": 4,
 "nbformat_minor": 1
}
