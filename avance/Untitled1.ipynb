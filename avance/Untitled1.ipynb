{
 "cells": [
  {
   "cell_type": "code",
   "execution_count": 386,
   "metadata": {
    "collapsed": true
   },
   "outputs": [],
   "source": [
    "import numpy as np\n",
    "import pandas as pd"
   ]
  },
  {
   "cell_type": "code",
   "execution_count": 387,
   "metadata": {
    "collapsed": false
   },
   "outputs": [],
   "source": [
    "data = pd.read_csv(\"data.csv\", sep='\\t')"
   ]
  },
  {
   "cell_type": "code",
   "execution_count": 388,
   "metadata": {
    "collapsed": false
   },
   "outputs": [],
   "source": [
    "data_test = data.ix[:11069]"
   ]
  },
  {
   "cell_type": "code",
   "execution_count": 389,
   "metadata": {
    "collapsed": false
   },
   "outputs": [],
   "source": [
    "data_test = data_test.rename(columns={data_test.columns[0]:'user_id',data_test.columns[1]:'song_id',data_test.columns[2]:'number'})"
   ]
  },
  {
   "cell_type": "code",
   "execution_count": 390,
   "metadata": {
    "collapsed": false
   },
   "outputs": [],
   "source": [
    "data_test.to_csv(\"test_data.csv\", sep='\\t',index=False)"
   ]
  },
  {
   "cell_type": "code",
   "execution_count": 391,
   "metadata": {
    "collapsed": true
   },
   "outputs": [],
   "source": [
    "data = pd.read_csv(\"test_data.csv\",sep='\\t')"
   ]
  },
  {
   "cell_type": "code",
   "execution_count": 392,
   "metadata": {
    "collapsed": false
   },
   "outputs": [
    {
     "data": {
      "text/plain": [
       "8087"
      ]
     },
     "execution_count": 392,
     "metadata": {},
     "output_type": "execute_result"
    }
   ],
   "source": [
    "len(data.groupby('song_id').size())"
   ]
  },
  {
   "cell_type": "code",
   "execution_count": 393,
   "metadata": {
    "collapsed": true
   },
   "outputs": [],
   "source": [
    "train_M = np.zeros((840, 8087))"
   ]
  },
  {
   "cell_type": "code",
   "execution_count": 394,
   "metadata": {
    "collapsed": false
   },
   "outputs": [],
   "source": [
    "list_song = list(data.song_id.unique())"
   ]
  },
  {
   "cell_type": "code",
   "execution_count": 395,
   "metadata": {
    "collapsed": false
   },
   "outputs": [],
   "source": [
    "dict_song = dict.fromkeys(list_song)"
   ]
  },
  {
   "cell_type": "code",
   "execution_count": 396,
   "metadata": {
    "collapsed": true
   },
   "outputs": [],
   "source": [
    "k = 0\n",
    "for i in dict_song:\n",
    "    dict_song[i]=k\n",
    "    k+=1"
   ]
  },
  {
   "cell_type": "code",
   "execution_count": 397,
   "metadata": {
    "collapsed": false
   },
   "outputs": [],
   "source": [
    "for r in data.iterrows():\n",
    "    row = r[1]\n",
    "    matrix_row = int(row[0].split('_')[-1])\n",
    "    matrix_col = dict_song[row[1]]\n",
    "    number  = row[2]\n",
    "    train_M[matrix_row][matrix_col] = number"
   ]
  },
  {
   "cell_type": "code",
   "execution_count": 398,
   "metadata": {
    "collapsed": false
   },
   "outputs": [
    {
     "data": {
      "text/plain": [
       "array([[ 0.,  0.,  0., ...,  0.,  0.,  0.],\n",
       "       [ 0.,  0.,  0., ...,  0.,  0.,  0.],\n",
       "       [ 0.,  0.,  0., ...,  0.,  0.,  0.],\n",
       "       ..., \n",
       "       [ 0.,  0.,  0., ...,  0.,  0.,  0.],\n",
       "       [ 0.,  0.,  0., ...,  0.,  0.,  0.],\n",
       "       [ 0.,  0.,  0., ...,  0.,  0.,  0.]])"
      ]
     },
     "execution_count": 398,
     "metadata": {},
     "output_type": "execute_result"
    }
   ],
   "source": [
    "train_M"
   ]
  },
  {
   "cell_type": "code",
   "execution_count": 399,
   "metadata": {
    "collapsed": false
   },
   "outputs": [],
   "source": [
    "def user_based_sim(train_M,record):\n",
    "    norm_train_M = np.linalg.norm(train_M, axis=1)\n",
    "    similarity = np.dot(train_M,record)/ (norm_train_M* np.linalg.norm(record))\n",
    "    rel0= np.sum((train_M.T*similarity),axis=1)/np.sum(similarity)\n",
    "    return rel0"
   ]
  },
  {
   "cell_type": "code",
   "execution_count": 400,
   "metadata": {
    "collapsed": false
   },
   "outputs": [],
   "source": [
    "data = pd.read_csv(\"data.csv\", sep='\\t')"
   ]
  },
  {
   "cell_type": "code",
   "execution_count": 401,
   "metadata": {
    "collapsed": false
   },
   "outputs": [],
   "source": [
    "test = data.ix[11070:21000]\n",
    "test_M = np.zeros((9931,8087))\n",
    "k=0\n",
    "for r in test.iterrows():\n",
    "    row = r[1]\n",
    "    matrix_row = int(row[0].split('_')[-1])-840\n",
    "    if row[1] in dict_song:\n",
    "        matrix_col = dict_song[row[1]]\n",
    "        number  = row[2]\n",
    "        test_M[matrix_row][matrix_col] = number"
   ]
  },
  {
   "cell_type": "code",
   "execution_count": null,
   "metadata": {
    "collapsed": false
   },
   "outputs": [],
   "source": []
  },
  {
   "cell_type": "code",
   "execution_count": 402,
   "metadata": {
    "collapsed": false
   },
   "outputs": [
    {
     "name": "stderr",
     "output_type": "stream",
     "text": [
      "/Users/yuxiangwang/anaconda2/lib/python2.7/site-packages/ipykernel/__main__.py:3: RuntimeWarning: invalid value encountered in divide\n",
      "  app.launch_new_instance()\n"
     ]
    }
   ],
   "source": [
    "result_test = []\n",
    "for record in test_M:\n",
    "    re = user_based_sim(train_M, record)\n",
    "    result_test.append(re)"
   ]
  },
  {
   "cell_type": "code",
   "execution_count": 421,
   "metadata": {
    "collapsed": false
   },
   "outputs": [],
   "source": [
    "x = []\n",
    "for i in range(10):\n",
    "    x.append(np.argsort(result_test[i])[::-1][:10])"
   ]
  },
  {
   "cell_type": "code",
   "execution_count": 423,
   "metadata": {
    "collapsed": false
   },
   "outputs": [],
   "source": [
    "y = [[] for i in range(10)]\n",
    "for i in range(10):\n",
    "    for j in x[i]:\n",
    "        y[i].append(\"song_id\"+str(j))"
   ]
  },
  {
   "cell_type": "code",
   "execution_count": 435,
   "metadata": {
    "collapsed": false
   },
   "outputs": [
    {
     "name": "stdout",
     "output_type": "stream",
     "text": [
      "for user 0 recommend ['song_id2189', 'song_id6588', 'song_id6043', 'song_id3176', 'song_id7182', 'song_id5596', 'song_id3354', 'song_id5795', 'song_id7251', 'song_id4024']\n",
      " \n",
      "for user 1 recommend ['song_id2550', 'song_id1900', 'song_id4539', 'song_id5833', 'song_id2639', 'song_id3513', 'song_id5959', 'song_id535', 'song_id6652', 'song_id6903']\n",
      " \n",
      "for user 2 recommend ['song_id4843', 'song_id1790', 'song_id6999', 'song_id2333', 'song_id1083', 'song_id4129', 'song_id3367', 'song_id1928', 'song_id7990', 'song_id2481']\n",
      " \n",
      "for user 3 recommend ['song_id235', 'song_id3647', 'song_id5596', 'song_id2912', 'song_id6819', 'song_id533', 'song_id607', 'song_id998', 'song_id7745', 'song_id3779']\n",
      " \n",
      "for user 4 recommend ['song_id8086', 'song_id2699', 'song_id2686', 'song_id2687', 'song_id2688', 'song_id2689', 'song_id2690', 'song_id2691', 'song_id2692', 'song_id2693']\n",
      " \n",
      "for user 5 recommend ['song_id5310', 'song_id3663', 'song_id3255', 'song_id1282', 'song_id6849', 'song_id7506', 'song_id4149', 'song_id4185', 'song_id1688', 'song_id3524']\n",
      " \n",
      "for user 6 recommend ['song_id6287', 'song_id7001', 'song_id5310', 'song_id3663', 'song_id6043', 'song_id1615', 'song_id4015', 'song_id4028', 'song_id6849', 'song_id8023']\n",
      " \n",
      "for user 7 recommend ['song_id1788', 'song_id8085', 'song_id4921', 'song_id3828', 'song_id3714', 'song_id1613', 'song_id7724', 'song_id2295', 'song_id6867', 'song_id3182']\n",
      " \n",
      "for user 8 recommend ['song_id7203', 'song_id238', 'song_id5781', 'song_id6043', 'song_id5300', 'song_id1111', 'song_id959', 'song_id311', 'song_id6191', 'song_id1142']\n",
      " \n",
      "for user 9 recommend ['song_id3393', 'song_id6947', 'song_id422', 'song_id1489', 'song_id6234', 'song_id2003', 'song_id6313', 'song_id634', 'song_id6457', 'song_id2225']\n",
      " \n"
     ]
    }
   ],
   "source": [
    "for i in range(10):\n",
    "    print \"for user \"+ str(i) + \" recommend \" + str(y[i] )\n",
    "    print  \" \""
   ]
  },
  {
   "cell_type": "code",
   "execution_count": null,
   "metadata": {
    "collapsed": true
   },
   "outputs": [],
   "source": []
  }
 ],
 "metadata": {
  "anaconda-cloud": {},
  "kernelspec": {
   "display_name": "Python [conda root]",
   "language": "python",
   "name": "conda-root-py"
  },
  "language_info": {
   "codemirror_mode": {
    "name": "ipython",
    "version": 2
   },
   "file_extension": ".py",
   "mimetype": "text/x-python",
   "name": "python",
   "nbconvert_exporter": "python",
   "pygments_lexer": "ipython2",
   "version": "2.7.12"
  }
 },
 "nbformat": 4,
 "nbformat_minor": 1
}
